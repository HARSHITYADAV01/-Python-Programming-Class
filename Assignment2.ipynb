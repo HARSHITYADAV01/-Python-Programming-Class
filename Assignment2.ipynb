{
 "cells": [
  {
   "cell_type": "code",
   "execution_count": 1,
   "id": "166686cd-b850-43f7-920f-95a590dc8d18",
   "metadata": {},
   "outputs": [
    {
     "name": "stdin",
     "output_type": "stream",
     "text": [
      "How many values would you like to enter?  5\n",
      "Enter integer 1:  7\n",
      "Enter integer 2:  9\n",
      "Enter integer 3:  11\n",
      "Enter integer 4:  13\n",
      "Enter integer 5:  15\n"
     ]
    },
    {
     "name": "stdout",
     "output_type": "stream",
     "text": [
      "You entered: [7, 9, 11, 13, 15]\n"
     ]
    }
   ],
   "source": [
    "def get_integers():\n",
    "    while True:\n",
    "        try:\n",
    "            n = int(input(\"How many values would you like to enter? \"))\n",
    "            if n <= 0:\n",
    "                print(\"Please enter a positive number.\")\n",
    "                continue\n",
    "            break\n",
    "        except ValueError:\n",
    "            print(\"Please enter a valid integer.\")\n",
    "    user_values = []\n",
    "    for i in range(n):\n",
    "        while True:\n",
    "            try:\n",
    "                value = int(input(f\"Enter integer {i + 1}: \"))\n",
    "                user_values.append(value)\n",
    "                break\n",
    "            except ValueError:\n",
    "                print(\"That's not a valid integer. Please try again.\")\n",
    "    return user_values\n",
    "user_data = get_integers()\n",
    "print(\"You entered:\", user_data)\n"
   ]
  },
  {
   "cell_type": "code",
   "execution_count": 2,
   "id": "1f9d62fb-067b-470b-8161-af684536b01d",
   "metadata": {},
   "outputs": [
    {
     "name": "stdin",
     "output_type": "stream",
     "text": [
      "How many values would you like to enter?  5\n",
      "Enter integer 1:  2 \n",
      "Enter integer 2:  5\n",
      "Enter integer 3:  7\n",
      "Enter integer 4:  9\n",
      "Enter integer 5:  10\n"
     ]
    },
    {
     "name": "stdout",
     "output_type": "stream",
     "text": [
      "\n",
      "Results:\n",
      "Sum: 33\n",
      "Average: 6.6\n",
      "Minimum: 2\n",
      "Maximum: 10\n",
      "Cumulative Sum: [2, 7, 14, 23, 33]\n"
     ]
    }
   ],
   "source": [
    "def get_integers():\n",
    "    while True:\n",
    "        try:\n",
    "            n = int(input(\"How many values would you like to enter? \"))\n",
    "            if n <= 0:\n",
    "                print(\"Please enter a positive number.\")\n",
    "                continue\n",
    "            break\n",
    "        except ValueError:\n",
    "            print(\"Please enter a valid integer.\")\n",
    "    user_values = []\n",
    "    for i in range(n):\n",
    "        while True:\n",
    "            try:\n",
    "                value = int(input(f\"Enter integer {i + 1}: \"))\n",
    "                user_values.append(value)\n",
    "                break\n",
    "            except ValueError:\n",
    "                print(\"That's not a valid integer. Please try again.\")\n",
    "    return user_values\n",
    "def compute_stats(numbers):\n",
    "    total_sum = sum(numbers)\n",
    "    average = total_sum / len(numbers)\n",
    "    minimum = min(numbers)\n",
    "    maximum = max(numbers)\n",
    "    cumulative_sum = [sum(numbers[:i+1]) for i in range(len(numbers))]\n",
    "    return total_sum, average, minimum, maximum, cumulative_sum\n",
    "if __name__ == \"__main__\":\n",
    "    user_data = get_integers()\n",
    "    total_sum, average, minimum, maximum, cumulative_sum = compute_stats(user_data)\n",
    "    print(\"\\nResults:\")\n",
    "    print(f\"Sum: {total_sum}\")\n",
    "    print(f\"Average: {average}\")\n",
    "    print(f\"Minimum: {minimum}\")\n",
    "    print(f\"Maximum: {maximum}\")\n",
    "    print(f\"Cumulative Sum: {cumulative_sum}\")\n"
   ]
  },
  {
   "cell_type": "code",
   "execution_count": null,
   "id": "f595b7e9-d1e9-44ec-9670-8ee865c5a46d",
   "metadata": {},
   "outputs": [],
   "source": []
  }
 ],
 "metadata": {
  "kernelspec": {
   "display_name": "Python 3 (ipykernel)",
   "language": "python",
   "name": "python3"
  },
  "language_info": {
   "codemirror_mode": {
    "name": "ipython",
    "version": 3
   },
   "file_extension": ".py",
   "mimetype": "text/x-python",
   "name": "python",
   "nbconvert_exporter": "python",
   "pygments_lexer": "ipython3",
   "version": "3.9.11"
  }
 },
 "nbformat": 4,
 "nbformat_minor": 5
}
