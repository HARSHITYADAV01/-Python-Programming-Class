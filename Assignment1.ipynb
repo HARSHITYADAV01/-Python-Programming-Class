{
 "cells": [
  {
   "cell_type": "code",
   "execution_count": 1,
   "id": "bcb0431d-3dac-4e41-9892-bc05df701fcf",
   "metadata": {},
   "outputs": [
    {
     "name": "stdout",
     "output_type": "stream",
     "text": [
      "Name: Harshit Yadav\n",
      "Course Name: MCA\n",
      "Python Version: 3.9.11\n"
     ]
    }
   ],
   "source": [
    "import platform\n",
    "name = \"Harshit Yadav\"\n",
    "course_name = \"MCA\"\n",
    "python_version = platform.python_version()\n",
    "print(f\"Name: {name}\")\n",
    "print(f\"Course Name: {course_name}\")\n",
    "print(f\"Python Version: {python_version}\")\n"
   ]
  },
  {
   "cell_type": "code",
   "execution_count": 2,
   "id": "2b0025ff-2caf-4168-a357-986b8d873a7f",
   "metadata": {},
   "outputs": [
    {
     "name": "stdout",
     "output_type": "stream",
     "text": [
      "Hello, Python World\n"
     ]
    }
   ],
   "source": [
    "print(\"Hello, Python World\")\n"
   ]
  },
  {
   "cell_type": "code",
   "execution_count": 3,
   "id": "e2146478-9f8f-41e6-a80f-753d8d167db2",
   "metadata": {},
   "outputs": [
    {
     "name": "stdin",
     "output_type": "stream",
     "text": [
      "Enter your first name:  Harshit\n",
      "Enter your last name:  Yadav\n"
     ]
    },
    {
     "name": "stdout",
     "output_type": "stream",
     "text": [
      "Yadav Harshit\n"
     ]
    }
   ],
   "source": [
    "first_name = input(\"Enter your first name: \")\n",
    "last_name = input(\"Enter your last name: \")\n",
    "print(f\"{last_name} {first_name}\")\n"
   ]
  },
  {
   "cell_type": "code",
   "execution_count": 4,
   "id": "888eb909-b531-46d1-9c8d-777b5b8460cf",
   "metadata": {},
   "outputs": [
    {
     "name": "stdin",
     "output_type": "stream",
     "text": [
      "Enter your first name:  Harshit\n",
      "Enter your last name:  yadav\n"
     ]
    },
    {
     "name": "stdout",
     "output_type": "stream",
     "text": [
      "Yadav Harshit\n"
     ]
    }
   ],
   "source": [
    "# Take user input for first and last name\n",
    "first_name = input(\"Enter your first name: \")\n",
    "last_name = input(\"Enter your last name: \")\n",
    "\n",
    "# Using string methods to modify the input\n",
    "\n",
    "# The .strip() method removes any leading and trailing spaces from the input\n",
    "first_name = first_name.strip()\n",
    "last_name = last_name.strip()\n",
    "\n",
    "# The .capitalize() method ensures the first letter of each name is capitalized\n",
    "first_name = first_name.capitalize()\n",
    "last_name = last_name.capitalize()\n",
    "\n",
    "# Print the names in reverse order with a space between them\n",
    "print(f\"{last_name} {first_name}\")\n"
   ]
  },
  {
   "cell_type": "code",
   "execution_count": 5,
   "id": "c5275322-dbc9-4813-b5b1-30b7eb81d7ad",
   "metadata": {},
   "outputs": [
    {
     "name": "stdin",
     "output_type": "stream",
     "text": [
      "Enter a number:  33\n"
     ]
    },
    {
     "name": "stdout",
     "output_type": "stream",
     "text": [
      "Original input: 33\n",
      "As an integer: 33\n",
      "As a float: 33.0\n",
      "As a complex number: (33+0j)\n"
     ]
    }
   ],
   "source": [
    "# Take input from the user\n",
    "user_input = input(\"Enter a number: \")\n",
    "\n",
    "# Convert the input to a float first, to handle both integers and decimals\n",
    "num_float = float(user_input)\n",
    "\n",
    "# Convert to integer\n",
    "num_int = int(num_float)\n",
    "\n",
    "# Convert to complex\n",
    "num_complex = complex(num_float)\n",
    "\n",
    "# Display the results\n",
    "print(\"Original input:\", user_input)\n",
    "print(\"As an integer:\", num_int)\n",
    "print(\"As a float:\", num_float)\n",
    "print(\"As a complex number:\", num_complex)"
   ]
  },
  {
   "cell_type": "code",
   "execution_count": 6,
   "id": "97b5c4f1-7cc5-4701-934c-98534fc210de",
   "metadata": {},
   "outputs": [
    {
     "name": "stdin",
     "output_type": "stream",
     "text": [
      "Enter the length of the rectangle:  45\n",
      "Enter the width of the rectangle:  25\n"
     ]
    },
    {
     "name": "stdout",
     "output_type": "stream",
     "text": [
      "The area of the rectangle is: 1125.0\n"
     ]
    }
   ],
   "source": [
    "# Prompt the user to enter the length of the rectangle\n",
    "length = float(input(\"Enter the length of the rectangle: \"))\n",
    "\n",
    "# Prompt the user to enter the width of the rectangle\n",
    "width = float(input(\"Enter the width of the rectangle: \"))\n",
    "\n",
    "# Calculate the area of the rectangle\n",
    "area = length * width\n",
    "\n",
    "# Display the result\n",
    "print(\"The area of the rectangle is:\", area)\n"
   ]
  },
  {
   "cell_type": "code",
   "execution_count": 7,
   "id": "6b87bb8c-b809-42da-8a7c-0ca5e105302b",
   "metadata": {},
   "outputs": [
    {
     "name": "stdin",
     "output_type": "stream",
     "text": [
      "Enter the length of the rectangle:  65\n",
      "Enter the width of the rectangle:  54\n"
     ]
    },
    {
     "name": "stdout",
     "output_type": "stream",
     "text": [
      "The area of the rectangle is: 3510.00\n"
     ]
    }
   ],
   "source": [
    "# Prompt the user to enter the length of the rectangle\n",
    "length = float(input(\"Enter the length of the rectangle: \"))\n",
    "\n",
    "# Prompt the user to enter the width of the rectangle\n",
    "width = float(input(\"Enter the width of the rectangle: \"))\n",
    "\n",
    "# Calculate the area of the rectangle\n",
    "area = length * width\n",
    "\n",
    "# Display the result formatted to two decimal places\n",
    "print(\"The area of the rectangle is: {:.2f}\".format(area))\n"
   ]
  },
  {
   "cell_type": "code",
   "execution_count": 8,
   "id": "ef2370aa-a7cd-4f94-97e7-e01eb4b6d879",
   "metadata": {},
   "outputs": [
    {
     "name": "stdin",
     "output_type": "stream",
     "text": [
      "Enter the first number:  10\n",
      "Enter the second number:  20\n",
      "Enter the third number:  30\n"
     ]
    },
    {
     "name": "stdout",
     "output_type": "stream",
     "text": [
      "The average of the three numbers is: 20.00\n"
     ]
    }
   ],
   "source": [
    "# Prompt the user to enter the three numbers\n",
    "num1 = float(input(\"Enter the first number: \"))\n",
    "num2 = float(input(\"Enter the second number: \"))\n",
    "num3 = float(input(\"Enter the third number: \"))\n",
    "\n",
    "# Calculate the average of the three numbers\n",
    "average = (num1 + num2 + num3) / 3\n",
    "\n",
    "# Use the % method to format the string and display the average\n",
    "print(\"The average of the three numbers is: %.2f\" % average)\n"
   ]
  },
  {
   "cell_type": "code",
   "execution_count": 9,
   "id": "03b8b5a1-a4c7-45e9-9679-c45d49952dc0",
   "metadata": {},
   "outputs": [
    {
     "name": "stdin",
     "output_type": "stream",
     "text": [
      "Enter a number (or type 'exit' to quit):  33\n"
     ]
    },
    {
     "name": "stdout",
     "output_type": "stream",
     "text": [
      "The number is positive.\n"
     ]
    },
    {
     "name": "stdin",
     "output_type": "stream",
     "text": [
      "Enter a number (or type 'exit' to quit):  0\n"
     ]
    },
    {
     "name": "stdout",
     "output_type": "stream",
     "text": [
      "The number is zero.\n"
     ]
    },
    {
     "name": "stdin",
     "output_type": "stream",
     "text": [
      "Enter a number (or type 'exit' to quit):  exit\n"
     ]
    }
   ],
   "source": [
    "while True:\n",
    "    # Ask the user for a number\n",
    "    user_input = input(\"Enter a number (or type 'exit' to quit): \")\n",
    "\n",
    "    # Check if the user wants to exit the loop\n",
    "    if user_input.lower() == 'exit':\n",
    "        break\n",
    "\n",
    "    # Convert the input to a float for number comparison\n",
    "    try:\n",
    "        number = float(user_input)\n",
    "    except ValueError:\n",
    "        print(\"Invalid input. Please enter a valid number.\")\n",
    "        continue\n",
    "\n",
    "    # Determine if the number is positive, negative, or zero\n",
    "    if number > 0:\n",
    "        print(\"The number is positive.\")\n",
    "    elif number < 0:\n",
    "        print(\"The number is negative.\")\n",
    "    else:\n",
    "        print(\"The number is zero.\")\n"
   ]
  },
  {
   "cell_type": "code",
   "execution_count": 10,
   "id": "c01d5bae-1e40-4dcf-9229-238cafcc3216",
   "metadata": {},
   "outputs": [
    {
     "name": "stdin",
     "output_type": "stream",
     "text": [
      "Enter the first number:  2\n",
      "Enter the second number:  5\n"
     ]
    },
    {
     "name": "stdout",
     "output_type": "stream",
     "text": [
      "One number is even and the other is odd.\n"
     ]
    }
   ],
   "source": [
    "# Prompt the user to enter the first number\n",
    "num1 = int(input(\"Enter the first number: \"))\n",
    "\n",
    "# Prompt the user to enter the second number\n",
    "num2 = int(input(\"Enter the second number: \"))\n",
    "\n",
    "# Determine if both numbers are even\n",
    "if num1 % 2 == 0 and num2 % 2 == 0:\n",
    "    print(\"Both numbers are even.\")\n",
    "# Determine if both numbers are odd\n",
    "elif num1 % 2 != 0 and num2 % 2 != 0:\n",
    "    print(\"Both numbers are odd.\")\n",
    "# If one number is even and the other is odd\n",
    "else:\n",
    "    print(\"One number is even and the other is odd.\")\n"
   ]
  },
  {
   "cell_type": "code",
   "execution_count": 17,
   "id": "85bd3012-ca0d-4cee-b071-ec094b74ba16",
   "metadata": {},
   "outputs": [
    {
     "name": "stdin",
     "output_type": "stream",
     "text": [
      "Enter an integer:  76\n"
     ]
    },
    {
     "name": "stdout",
     "output_type": "stream",
     "text": [
      "Binary equivalent: 1001100\n",
      "Octal equivalent: 114\n",
      "Hexadecimal equivalent: 4C\n"
     ]
    }
   ],
   "source": [
    "# Function to convert an integer to its binary equivalent using a for loop and bitwise operators\n",
    "def int_to_binary(n):\n",
    "    if n == 0:  # If the input number is 0, return '0'\n",
    "        return '0'\n",
    "    binary = ''  # Initialize an empty string to build the binary representation\n",
    "    for i in range(n.bit_length() - 1, -1, -1):  # Loop from the most significant bit to the least significant bit\n",
    "        binary += str((n >> i) & 1)  # Extract each bit by right-shifting and bitwise AND with 1, and append to the binary string\n",
    "    return binary  # Return the resulting binary string\n",
    "\n",
    "# Function to convert an integer to its octal equivalent using a for loop and bitwise operators\n",
    "def int_to_octal(n):\n",
    "    if n == 0:  # If the input number is 0, return '0'\n",
    "        return '0'\n",
    "    octal = ''  # Initialize an empty string to build the octal representation\n",
    "    for i in range(0, n.bit_length(), 3):  # Loop through the bits in steps of 3 (octal digits)\n",
    "        octal_digit = (n >> i) & 0b111  # Extract each 3-bit group using bitwise AND with 7 (0b111)\n",
    "        octal = str(octal_digit) + octal  # Prepend the octal digit to the string\n",
    "    return octal.lstrip('0') or '0'  # Strip leading zeros or return '0' if result is empty\n",
    "\n",
    "# Function to convert an integer to its hexadecimal equivalent using a for loop and bitwise operators\n",
    "def int_to_hexadecimal(n):\n",
    "    if n == 0:  # If the input number is 0, return '0'\n",
    "        return '0'\n",
    "    hex_chars = '0123456789ABCDEF'  # String of possible hexadecimal characters\n",
    "    hexadecimal = ''  # Initialize an empty string to build the hexadecimal representation\n",
    "    for i in range(0, n.bit_length(), 4):  # Loop through the bits in steps of 4 (hexadecimal digits)\n",
    "        hex_digit = (n >> i) & 0b1111  # Extract each 4-bit group using bitwise AND with 15 (0b1111)\n",
    "        hexadecimal = hex_chars[hex_digit] + hexadecimal  # Prepend the corresponding hex character\n",
    "    return hexadecimal.lstrip('0') or '0'  # Strip leading zeros or return '0' if result is empty\n",
    "\n",
    "# Prompt the user to enter an integer\n",
    "number = int(input(\"Enter an integer: \"))\n",
    "\n",
    "# Print the binary, octal, and hexadecimal equivalents of the entered number\n",
    "print(\"Binary equivalent:\", int_to_binary(number))\n",
    "print(\"Octal equivalent:\", int_to_octal(number))\n",
    "print(\"Hexadecimal equivalent:\", int_to_hexadecimal(number))\n"
   ]
  }
 ],
 "metadata": {
  "kernelspec": {
   "display_name": "Python 3 (ipykernel)",
   "language": "python",
   "name": "python3"
  },
  "language_info": {
   "codemirror_mode": {
    "name": "ipython",
    "version": 3
   },
   "file_extension": ".py",
   "mimetype": "text/x-python",
   "name": "python",
   "nbconvert_exporter": "python",
   "pygments_lexer": "ipython3",
   "version": "3.9.11"
  }
 },
 "nbformat": 4,
 "nbformat_minor": 5
}
