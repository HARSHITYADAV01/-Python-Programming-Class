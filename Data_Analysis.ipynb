{
 "cells": [
  {
   "cell_type": "code",
   "execution_count": 1,
   "id": "88d09200-6315-4cc2-b6ef-9f7e8f1fb4b9",
   "metadata": {},
   "outputs": [
    {
     "name": "stdout",
     "output_type": "stream",
     "text": [
      "The file 'data.csv' was not found.\n",
      "First 5 rows of the data:\n"
     ]
    },
    {
     "ename": "NameError",
     "evalue": "name 'data' is not defined",
     "output_type": "error",
     "traceback": [
      "\u001b[1;31m---------------------------------------------------------------------------\u001b[0m",
      "\u001b[1;31mNameError\u001b[0m                                 Traceback (most recent call last)",
      "Cell \u001b[1;32mIn[1], line 16\u001b[0m\n\u001b[0;32m     14\u001b[0m \u001b[38;5;66;03m# Display the first few rows\u001b[39;00m\n\u001b[0;32m     15\u001b[0m \u001b[38;5;28mprint\u001b[39m(\u001b[38;5;124m\"\u001b[39m\u001b[38;5;124mFirst 5 rows of the data:\u001b[39m\u001b[38;5;124m\"\u001b[39m)\n\u001b[1;32m---> 16\u001b[0m \u001b[38;5;28mprint\u001b[39m(\u001b[43mdata\u001b[49m\u001b[38;5;241m.\u001b[39mhead())\n\u001b[0;32m     18\u001b[0m \u001b[38;5;66;03m# Basic Data Analysis\u001b[39;00m\n\u001b[0;32m     19\u001b[0m \u001b[38;5;66;03m# Calculate Mean\u001b[39;00m\n\u001b[0;32m     20\u001b[0m ages \u001b[38;5;241m=\u001b[39m data[\u001b[38;5;124m\"\u001b[39m\u001b[38;5;124mAge\u001b[39m\u001b[38;5;124m\"\u001b[39m]\n",
      "\u001b[1;31mNameError\u001b[0m: name 'data' is not defined"
     ]
    }
   ],
   "source": [
    "import pandas as pd\n",
    "import numpy as np\n",
    "import matplotlib.pyplot as plt\n",
    "from collections import Counter\n",
    "\n",
    "# Load CSV file\n",
    "try:\n",
    "    data = pd.read_csv(\"data.csv\")\n",
    "    print(\"Data loaded successfully!\")\n",
    "except FileNotFoundError:\n",
    "    print(\"The file 'data.csv' was not found.\")\n",
    "    exit()\n",
    "\n",
    "# Display the first few rows\n",
    "print(\"First 5 rows of the data:\")\n",
    "print(data.head())\n",
    "\n",
    "# Basic Data Analysis\n",
    "# Calculate Mean\n",
    "ages = data[\"Age\"]\n",
    "salaries = data[\"Salary\"]\n",
    "\n",
    "mean_age = np.mean(ages)\n",
    "mean_salary = np.mean(salaries)\n",
    "print(\"\\n--- Mean Values ---\")\n",
    "print(f\"Mean Age: {mean_age}\")\n",
    "print(f\"Mean Salary: {mean_salary}\")\n",
    "\n",
    "# Calculate Median\n",
    "median_age = np.median(ages)\n",
    "median_salary = np.median(salaries)\n",
    "print(\"\\n--- Median Values ---\")\n",
    "print(f\"Median Age: {median_age}\")\n",
    "print(f\"Median Salary: {median_salary}\")\n",
    "\n",
    "# Calculate Mode\n",
    "def calculate_mode(column):\n",
    "    counter = Counter(column)\n",
    "    mode_value, count = counter.most_common(1)[0]\n",
    "    return mode_value\n",
    "\n",
    "mode_age = calculate_mode(ages)\n",
    "mode_salary = calculate_mode(salaries)\n",
    "print(\"\\n--- Mode Values ---\")\n",
    "print(f\"Mode Age: {mode_age}\")\n",
    "print(f\"Mode Salary: {mode_salary}\")\n",
    "\n",
    "# Visualization\n",
    "# Plot Age Distribution\n",
    "plt.figure(figsize=(10, 5))\n",
    "plt.hist(ages, bins=5, color='skyblue', alpha=0.7, rwidth=0.85)\n",
    "plt.title(\"Age Distribution\")\n",
    "plt.xlabel(\"Age\")\n",
    "plt.ylabel(\"Frequency\")\n",
    "plt.grid(axis='y', alpha=0.75)\n",
    "plt.show()\n",
    "\n",
    "# Scatter Plot for Salary\n",
    "plt.figure(figsize=(10, 5))\n",
    "plt.scatter(data[\"Age\"], data[\"Salary\"], color='green', alpha=0.6)\n",
    "plt.title(\"Salary vs Age\")\n",
    "plt.xlabel(\"Age\")\n",
    "plt.ylabel(\"Salary\")\n",
    "plt.grid(True)\n",
    "plt.show()\n"
   ]
  },
  {
   "cell_type": "code",
   "execution_count": null,
   "id": "e5bc5246-3671-4d8d-ae67-e479191c9f70",
   "metadata": {},
   "outputs": [],
   "source": []
  }
 ],
 "metadata": {
  "kernelspec": {
   "display_name": "Python 3 (ipykernel)",
   "language": "python",
   "name": "python3"
  },
  "language_info": {
   "codemirror_mode": {
    "name": "ipython",
    "version": 3
   },
   "file_extension": ".py",
   "mimetype": "text/x-python",
   "name": "python",
   "nbconvert_exporter": "python",
   "pygments_lexer": "ipython3",
   "version": "3.9.11"
  }
 },
 "nbformat": 4,
 "nbformat_minor": 5
}
